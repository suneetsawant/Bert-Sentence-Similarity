{
  "nbformat": 4,
  "nbformat_minor": 0,
  "metadata": {
    "colab": {
      "name": "IpsoftAssignment.ipynb",
      "provenance": [],
      "collapsed_sections": [],
      "authorship_tag": "ABX9TyOND9bQSIwKTDFpwkokt6RP",
      "include_colab_link": true
    },
    "kernelspec": {
      "name": "python3",
      "display_name": "Python 3"
    },
    "accelerator": "GPU"
  },
  "cells": [
    {
      "cell_type": "markdown",
      "metadata": {
        "id": "view-in-github",
        "colab_type": "text"
      },
      "source": [
        "<a href=\"https://colab.research.google.com/github/suneetsawant/Bert-Sentence-Similarity/blob/main/IpsoftAssignment.ipynb\" target=\"_parent\"><img src=\"https://colab.research.google.com/assets/colab-badge.svg\" alt=\"Open In Colab\"/></a>"
      ]
    },
    {
      "cell_type": "markdown",
      "metadata": {
        "id": "PP6SyWFUX2HB"
      },
      "source": [
        "## Install Tensorflow Official Models Api "
      ]
    },
    {
      "cell_type": "code",
      "metadata": {
        "colab": {
          "base_uri": "https://localhost:8080/"
        },
        "id": "2FujPU1Mh8f8",
        "outputId": "5e90d48d-69bf-454e-fd7c-bf000ecebf8d"
      },
      "source": [
        "!pip install -q tf-models-official==2.3.0"
      ],
      "execution_count": null,
      "outputs": [
        {
          "output_type": "stream",
          "text": [
            "\u001b[K     |████████████████████████████████| 849kB 11.7MB/s \n",
            "\u001b[K     |████████████████████████████████| 102kB 10.6MB/s \n",
            "\u001b[K     |████████████████████████████████| 174kB 34.8MB/s \n",
            "\u001b[K     |████████████████████████████████| 358kB 37.6MB/s \n",
            "\u001b[K     |████████████████████████████████| 1.2MB 45.5MB/s \n",
            "\u001b[K     |████████████████████████████████| 37.6MB 81kB/s \n",
            "\u001b[?25h  Building wheel for py-cpuinfo (setup.py) ... \u001b[?25l\u001b[?25hdone\n"
          ],
          "name": "stdout"
        }
      ]
    },
    {
      "cell_type": "markdown",
      "metadata": {
        "id": "_XxgQmwzmN8f"
      },
      "source": [
        "## Imports"
      ]
    },
    {
      "cell_type": "code",
      "metadata": {
        "id": "e0ASpaGuYoby"
      },
      "source": [
        "import os\n",
        "import numpy as np\n",
        "import matplotlib.pyplot as plt\n",
        "\n",
        "import tensorflow as tf\n",
        "import tensorflow_hub as hub\n",
        "import tensorflow_datasets as tfds\n",
        "tfds.disable_progress_bar()\n",
        "\n",
        "from official.modeling import tf_utils\n",
        "from official import nlp\n",
        "from official.nlp import bert\n",
        "\n",
        "# Load the required submodules\n",
        "import official.nlp.optimization\n",
        "import official.nlp.bert.bert_models\n",
        "import official.nlp.bert.configs\n",
        "import official.nlp.bert.run_classifier\n",
        "import official.nlp.bert.tokenization\n",
        "import official.nlp.data.classifier_data_lib\n",
        "import official.nlp.modeling.losses\n",
        "import official.nlp.modeling.models\n",
        "import official.nlp.modeling.networks"
      ],
      "execution_count": null,
      "outputs": []
    },
    {
      "cell_type": "markdown",
      "metadata": {
        "id": "1oI4qWdIFIkR"
      },
      "source": [
        "## Get the MRPC sentence pair dataset from tensorflow datasets"
      ]
    },
    {
      "cell_type": "code",
      "metadata": {
        "id": "TIh8iZKPiYuC",
        "colab": {
          "base_uri": "https://localhost:8080/"
        },
        "outputId": "8ca1d09a-ae70-463b-f597-94b8e606a41a"
      },
      "source": [
        "mrpc, info = tfds.load('glue/mrpc', with_info=True,\n",
        "                       # It's small, load the whole dataset\n",
        "                       batch_size=-1)\n",
        "list(mrpc.keys())\n",
        "info.features['label'].names\n",
        "mrpc_train = mrpc['train']\n",
        "\n",
        "for key, value in mrpc_train.items():\n",
        "  print(f\"{key:9s}: {value[1].numpy()}\")"
      ],
      "execution_count": null,
      "outputs": [
        {
          "output_type": "stream",
          "text": [
            "idx      : 1456\n",
            "label    : 0\n",
            "sentence1: b\"Less than 20 percent of Boise 's sales would come from making lumber and paper after the OfficeMax purchase is completed .\"\n",
            "sentence2: b\"Less than 20 percent of Boise 's sales would come from making lumber and paper after the OfficeMax purchase is complete , assuming those businesses aren 't sold .\"\n"
          ],
          "name": "stdout"
        }
      ]
    },
    {
      "cell_type": "code",
      "metadata": {
        "colab": {
          "base_uri": "https://localhost:8080/"
        },
        "id": "3ryE-aB0iLme",
        "outputId": "566cb5ec-c495-44c6-e7be-73c1e1f09529"
      },
      "source": [
        "bert_dir = \"gs://cloud-tpu-checkpoints/bert/keras_bert/uncased_L-12_H-768_A-12\"\n",
        "tf.io.gfile.listdir(bert_dir)"
      ],
      "execution_count": null,
      "outputs": [
        {
          "output_type": "execute_result",
          "data": {
            "text/plain": [
              "['bert_config.json',\n",
              " 'bert_model.ckpt.data-00000-of-00001',\n",
              " 'bert_model.ckpt.index',\n",
              " 'vocab.txt']"
            ]
          },
          "metadata": {
            "tags": []
          },
          "execution_count": 5
        }
      ]
    },
    {
      "cell_type": "markdown",
      "metadata": {
        "id": "q3Sh0HGoF1jb"
      },
      "source": [
        "## Define Bert Tokenizer"
      ]
    },
    {
      "cell_type": "code",
      "metadata": {
        "colab": {
          "base_uri": "https://localhost:8080/"
        },
        "id": "dGryvyCxmhiF",
        "outputId": "f45875a7-4742-4dce-baf4-ad65155400e0"
      },
      "source": [
        "tokenizer = bert.tokenization.FullTokenizer(\n",
        "    vocab_file=os.path.join(bert_dir, \"vocab.txt\"),\n",
        "     do_lower_case=True)\n",
        "\n",
        "print(\"Vocab size:\", len(tokenizer.vocab))\n",
        "tokenizer.convert_tokens_to_ids(['[CLS]', '[SEP]'])"
      ],
      "execution_count": null,
      "outputs": [
        {
          "output_type": "stream",
          "text": [
            "Vocab size: 30522\n"
          ],
          "name": "stdout"
        },
        {
          "output_type": "execute_result",
          "data": {
            "text/plain": [
              "[101, 102]"
            ]
          },
          "metadata": {
            "tags": []
          },
          "execution_count": 6
        }
      ]
    },
    {
      "cell_type": "code",
      "metadata": {
        "id": "hcsJ6EeJiCYp"
      },
      "source": [
        "def encode_sentence(sentence, tokenizer):\n",
        "   tokens = list(tokenizer.tokenize(sentence))\n",
        "   tokens.append('[SEP]')\n",
        "   return tokenizer.convert_tokens_to_ids(tokens)\n",
        "\n",
        "def bert_encode(mrpc, tokenizer):\n",
        "  num_examples = len(mrpc[\"sentence1\"])\n",
        "  \n",
        "  sentence1 = tf.ragged.constant([\n",
        "      encode_sentence(s, tokenizer)\n",
        "      for s in np.array(mrpc[\"sentence1\"])])\n",
        "  sentence2 = tf.ragged.constant([\n",
        "      encode_sentence(s, tokenizer)\n",
        "       for s in np.array(mrpc[\"sentence2\"])])\n",
        "\n",
        "  cls = [tokenizer.convert_tokens_to_ids(['[CLS]'])]*sentence1.shape[0]\n",
        "  input_word_ids = tf.concat([cls, sentence1, sentence2], axis=-1)\n",
        "  input_mask = tf.ones_like(input_word_ids).to_tensor()\n",
        "\n",
        "  type_cls = tf.zeros_like(cls)\n",
        "  type_s1 = tf.zeros_like(sentence1)\n",
        "  type_s2 = tf.ones_like(sentence2)\n",
        "  input_type_ids = tf.concat(\n",
        "      [type_cls, type_s1, type_s2], axis=-1).to_tensor()\n",
        "\n",
        "  inputs = {\n",
        "      'input_word_ids': input_word_ids.to_tensor(),\n",
        "      'input_mask': input_mask,\n",
        "      'input_type_ids': input_type_ids}\n",
        "\n",
        "  return inputs"
      ],
      "execution_count": null,
      "outputs": []
    },
    {
      "cell_type": "code",
      "metadata": {
        "colab": {
          "base_uri": "https://localhost:8080/"
        },
        "id": "tdr8_JVWlKHS",
        "outputId": "481d658e-600c-4f50-9dcf-6233d5a25b22"
      },
      "source": [
        "mrpc_train = bert_encode(mrpc['train'], tokenizer)\n",
        "mrpc_train_labels = mrpc['train']['label']\n",
        "\n",
        "mrpc_validation = bert_encode(mrpc['validation'], tokenizer)\n",
        "mrpc_validation_labels = mrpc['validation']['label']\n",
        "\n",
        "for key, value in mrpc_train.items():\n",
        "  print(f'{key:15s} shape: {value.shape}')\n",
        "# mrpc_train\n",
        "print(f'mrpc_train_labels shape: {mrpc_train_labels.shape}')\n",
        "\n",
        "total_neg_samples = mrpc_train_labels[mrpc_train_labels==0].shape[0]+mrpc_validation_labels[mrpc_validation_labels==0].shape[0]\n",
        "total_pos_samples = mrpc_train_labels[mrpc_train_labels==1].shape[0]+mrpc_validation_labels[mrpc_validation_labels==1].shape[0]\n",
        "\n",
        "total_data_samples = total_neg_samples+total_pos_samples\n",
        "\n",
        "\n",
        "# normedWeights = [1 - (x / sum(nSamples)) for x in nSamples]\n",
        "\n",
        "class_weights = {0:1-(total_neg_samples/total_data_samples),\n",
        "                 1:1-(total_pos_samples/total_data_samples)}\n",
        "print(f'Number of negative Samples:{total_neg_samples}')\n",
        "print(f'Number of positive Samples:{total_pos_samples}')\n",
        "print(f'Number of Total Samples:{total_data_samples}')\n",
        "class_weights\n",
        "# mrpc_train_labels.shape\n",
        "# mrpc_validation_labels.shape\n"
      ],
      "execution_count": null,
      "outputs": [
        {
          "output_type": "stream",
          "text": [
            "input_word_ids  shape: (3668, 103)\n",
            "input_mask      shape: (3668, 103)\n",
            "input_type_ids  shape: (3668, 103)\n",
            "mrpc_train_labels shape: (3668,)\n",
            "Number of negative Samples:1323\n",
            "Number of positive Samples:2753\n",
            "Number of Total Samples:4076\n"
          ],
          "name": "stdout"
        },
        {
          "output_type": "execute_result",
          "data": {
            "text/plain": [
              "{0: 0.6754170755642788, 1: 0.32458292443572134}"
            ]
          },
          "metadata": {
            "tags": []
          },
          "execution_count": 32
        }
      ]
    },
    {
      "cell_type": "markdown",
      "metadata": {
        "id": "VuP-89X3IUXd"
      },
      "source": [
        "## Configure Bert Classifier Model Parameters"
      ]
    },
    {
      "cell_type": "code",
      "metadata": {
        "colab": {
          "base_uri": "https://localhost:8080/"
        },
        "id": "SwFqU5Oulqr3",
        "outputId": "4f0cf849-aa93-4a01-cebc-031803355e42"
      },
      "source": [
        "import json\n",
        "\n",
        "bert_config_file = os.path.join(bert_dir, \"bert_config.json\")\n",
        "config_dict = json.loads(tf.io.gfile.GFile(bert_config_file).read())\n",
        "config_dict['hidden_dropout_prob'] = 0.3\n",
        "config_dict['attention_probs_dropout_prob'] = 0.3\n",
        "bert_config = bert.configs.BertConfig.from_dict(config_dict)\n",
        "config_dict"
      ],
      "execution_count": null,
      "outputs": [
        {
          "output_type": "execute_result",
          "data": {
            "text/plain": [
              "{'attention_probs_dropout_prob': 0.3,\n",
              " 'hidden_act': 'gelu',\n",
              " 'hidden_dropout_prob': 0.3,\n",
              " 'hidden_size': 768,\n",
              " 'initializer_range': 0.02,\n",
              " 'intermediate_size': 3072,\n",
              " 'max_position_embeddings': 512,\n",
              " 'num_attention_heads': 12,\n",
              " 'num_hidden_layers': 12,\n",
              " 'type_vocab_size': 2,\n",
              " 'vocab_size': 30522}"
            ]
          },
          "metadata": {
            "tags": []
          },
          "execution_count": 23
        }
      ]
    },
    {
      "cell_type": "code",
      "metadata": {
        "id": "u-azHtonZquJ"
      },
      "source": [
        "def build_model(max_seq_length,bert_classifier): \n",
        "    in_id = tf.keras.layers.Input(shape=(None,), name=\"input_word_ids\")\n",
        "    in_mask = tf.keras.layers.Input(shape=(None,), name=\"input_mask\")\n",
        "    in_segment = tf.keras.layers.Input(shape=(None,), name=\"input_type_ids\")\n",
        "    bert_inputs = [in_id, in_mask, in_segment]\n",
        "    \n",
        "    bert_output = bert_classifier(bert_inputs)\n",
        "    pred = tf.keras.layers.Dense(1, activation='sigmoid')(bert_output)\n",
        "    \n",
        "    model = tf.keras.models.Model(inputs=bert_inputs, outputs=pred)\n",
        "    return model\n",
        "\n"
      ],
      "execution_count": null,
      "outputs": []
    },
    {
      "cell_type": "code",
      "metadata": {
        "colab": {
          "base_uri": "https://localhost:8080/",
          "height": 889
        },
        "id": "cYGmElJ2neWn",
        "outputId": "e66212c1-97e6-412b-d39f-6cde8e7e0e2d"
      },
      "source": [
        "bert_classifier, bert_encoder = bert.bert_models.classifier_model(\n",
        "    bert_config, num_labels=2)\n",
        "model = build_model(128,bert_classifier)\n",
        "model.summary()\n",
        "bert_classifier.summary()\n",
        "tf.keras.utils.plot_model(model, show_shapes=True, dpi=48)"
      ],
      "execution_count": null,
      "outputs": [
        {
          "output_type": "stream",
          "text": [
            "Model: \"model\"\n",
            "__________________________________________________________________________________________________\n",
            "Layer (type)                    Output Shape         Param #     Connected to                     \n",
            "==================================================================================================\n",
            "input_word_ids (InputLayer)     [(None, None)]       0                                            \n",
            "__________________________________________________________________________________________________\n",
            "input_mask (InputLayer)         [(None, None)]       0                                            \n",
            "__________________________________________________________________________________________________\n",
            "input_type_ids (InputLayer)     [(None, None)]       0                                            \n",
            "__________________________________________________________________________________________________\n",
            "bert_classifier (BertClassifier (None, 2)            109483778   input_word_ids[0][0]             \n",
            "                                                                 input_mask[0][0]                 \n",
            "                                                                 input_type_ids[0][0]             \n",
            "__________________________________________________________________________________________________\n",
            "dense (Dense)                   (None, 1)            3           bert_classifier[0][0]            \n",
            "==================================================================================================\n",
            "Total params: 109,483,781\n",
            "Trainable params: 109,483,781\n",
            "Non-trainable params: 0\n",
            "__________________________________________________________________________________________________\n",
            "Model: \"bert_classifier\"\n",
            "__________________________________________________________________________________________________\n",
            "Layer (type)                    Output Shape         Param #     Connected to                     \n",
            "==================================================================================================\n",
            "input_word_ids (InputLayer)     [(None, None)]       0                                            \n",
            "__________________________________________________________________________________________________\n",
            "input_mask (InputLayer)         [(None, None)]       0                                            \n",
            "__________________________________________________________________________________________________\n",
            "input_type_ids (InputLayer)     [(None, None)]       0                                            \n",
            "__________________________________________________________________________________________________\n",
            "transformer_encoder (Transforme [(None, None, 768),  109482240   input_word_ids[0][0]             \n",
            "                                                                 input_mask[0][0]                 \n",
            "                                                                 input_type_ids[0][0]             \n",
            "__________________________________________________________________________________________________\n",
            "dropout_1 (Dropout)             (None, 768)          0           transformer_encoder[0][1]        \n",
            "__________________________________________________________________________________________________\n",
            "classification (Classification) (None, 2)            1538        dropout_1[0][0]                  \n",
            "==================================================================================================\n",
            "Total params: 109,483,778\n",
            "Trainable params: 109,483,778\n",
            "Non-trainable params: 0\n",
            "__________________________________________________________________________________________________\n"
          ],
          "name": "stdout"
        },
        {
          "output_type": "execute_result",
          "data": {
            "image/png": "[encoded data removed]",
            "text/plain": [
              "<IPython.core.display.Image object>"
            ]
          },
          "metadata": {
            "tags": []
          },
          "execution_count": 25
        }
      ]
    },
    {
      "cell_type": "code",
      "metadata": {
        "colab": {
          "base_uri": "https://localhost:8080/"
        },
        "id": "V0iD5fmHnhJ6",
        "outputId": "1ca8a06a-37d5-41f6-da99-8c85f03c4f49"
      },
      "source": [
        "checkpoint = tf.train.Checkpoint(model=bert_encoder)\n",
        "checkpoint.restore(\n",
        "    os.path.join(bert_dir, 'bert_model.ckpt')).assert_consumed()"
      ],
      "execution_count": null,
      "outputs": [
        {
          "output_type": "execute_result",
          "data": {
            "text/plain": [
              "<tensorflow.python.training.tracking.util.CheckpointLoadStatus at 0x7f19ae3460b8>"
            ]
          },
          "metadata": {
            "tags": []
          },
          "execution_count": 26
        }
      ]
    },
    {
      "cell_type": "markdown",
      "metadata": {
        "id": "3GETKA-RJKbD"
      },
      "source": [
        "## Configure Training Parameters"
      ]
    },
    {
      "cell_type": "code",
      "metadata": {
        "id": "KIXvk0azn6q8"
      },
      "source": [
        "epochs = 15\n",
        "batch_size = 32\n",
        "\n",
        "train_data_size = len(mrpc_train_labels)\n",
        "steps_per_epoch = int(train_data_size / batch_size)\n",
        "num_train_steps = steps_per_epoch * epochs\n",
        "warmup_steps = int(epochs * train_data_size * 0.1 / batch_size)\n",
        "\n",
        "# creates an optimizer with learning rate schedule\n",
        "optimizer = nlp.optimization.create_optimizer(\n",
        "    1e-5, num_train_steps=num_train_steps, num_warmup_steps=warmup_steps)"
      ],
      "execution_count": null,
      "outputs": []
    },
    {
      "cell_type": "markdown",
      "metadata": {
        "id": "8bLc1CyHmSQg"
      },
      "source": [
        "## Train the  Model"
      ]
    },
    {
      "cell_type": "code",
      "metadata": {
        "colab": {
          "base_uri": "https://localhost:8080/"
        },
        "id": "SI7Gm-7nn_AS",
        "outputId": "0c6997f8-cb3a-4b4c-d1f7-a1452fda5be2"
      },
      "source": [
        "metrics = [tf.keras.metrics.BinaryAccuracy(name='accuracy'),\n",
        "           tf.keras.metrics.Precision(name='precision'),\n",
        "      tf.keras.metrics.Recall(name='recall'),\n",
        "      tf.keras.metrics.AUC(name='auc'),]\n",
        "loss = tf.keras.losses.BinaryCrossentropy(from_logits=True)\n",
        "checkpoint_path = \"models/cp-{epoch:04d}.ckpt\"\n",
        "checkpoint_dir = os.path.dirname(checkpoint_path)\n",
        "\n",
        "batch_size = 32\n",
        "\n",
        "# Create a callback that saves the model's weights every 5 epochs\n",
        "cp_callback = tf.keras.callbacks.ModelCheckpoint(\n",
        "    filepath=checkpoint_path, \n",
        "    verbose=1, \n",
        "    save_weights_only=True,\n",
        "    save_freq=2*steps_per_epoch)\n",
        "\n",
        "model.save_weights(checkpoint_path.format(epoch=0))\n",
        "\n",
        "model.compile(\n",
        "    optimizer=optimizer,\n",
        "    loss=loss,\n",
        "    metrics=metrics\n",
        "    )\n",
        "\n",
        "model.fit(\n",
        "      mrpc_train, mrpc_train_labels,\n",
        "      validation_data=(mrpc_validation, mrpc_validation_labels),\n",
        "      batch_size=batch_size,\n",
        "      callbacks=[cp_callback],\n",
        "      epochs=epochs,\n",
        "      class_weight=class_weights)\n"
      ],
      "execution_count": null,
      "outputs": [
        {
          "output_type": "stream",
          "text": [
            "Epoch 1/15\n",
            "115/115 [==============================] - 63s 403ms/step - loss: 0.3100 - accuracy: 0.4839 - precision: 0.6869 - recall: 0.4379 - auc: 0.5074 - val_loss: 0.6668 - val_accuracy: 0.7010 - val_precision: 0.7199 - val_recall: 0.9211 - val_auc: 0.7212\n",
            "Epoch 2/15\n",
            "113/115 [============================>.] - ETA: 0s - loss: 0.2982 - accuracy: 0.5545 - precision: 0.7457 - recall: 0.5015 - auc: 0.6071\n",
            "Epoch 00002: saving model to models/cp-0002.ckpt\n",
            "115/115 [==============================] - 50s 437ms/step - loss: 0.2979 - accuracy: 0.5559 - precision: 0.7466 - recall: 0.5037 - auc: 0.6084 - val_loss: 0.5566 - val_accuracy: 0.7500 - val_precision: 0.7690 - val_recall: 0.9068 - val_auc: 0.7476\n",
            "Epoch 3/15\n",
            "115/115 [==============================] - 44s 385ms/step - loss: 0.2608 - accuracy: 0.6924 - precision: 0.8206 - recall: 0.6832 - auc: 0.7592 - val_loss: 0.5525 - val_accuracy: 0.7255 - val_precision: 0.7136 - val_recall: 1.0000 - val_auc: 0.7918\n",
            "Epoch 4/15\n",
            "111/115 [===========================>..] - ETA: 1s - loss: 0.2532 - accuracy: 0.7278 - precision: 0.8290 - recall: 0.7423 - auc: 0.7825\n",
            "Epoch 00004: saving model to models/cp-0004.ckpt\n",
            "115/115 [==============================] - 50s 432ms/step - loss: 0.2529 - accuracy: 0.7276 - precision: 0.8294 - recall: 0.7419 - auc: 0.7826 - val_loss: 0.5178 - val_accuracy: 0.7574 - val_precision: 0.7419 - val_recall: 0.9892 - val_auc: 0.8058\n",
            "Epoch 5/15\n",
            "115/115 [==============================] - 44s 386ms/step - loss: 0.2325 - accuracy: 0.7292 - precision: 0.8618 - recall: 0.7085 - auc: 0.8181 - val_loss: 0.4892 - val_accuracy: 0.7868 - val_precision: 0.7667 - val_recall: 0.9892 - val_auc: 0.8302\n",
            "Epoch 6/15\n",
            "109/115 [===========================>..] - ETA: 2s - loss: 0.2068 - accuracy: 0.7864 - precision: 0.8890 - recall: 0.7874 - auc: 0.8546\n",
            "Epoch 00006: saving model to models/cp-0006.ckpt\n",
            "115/115 [==============================] - 50s 432ms/step - loss: 0.2068 - accuracy: 0.7865 - precision: 0.8889 - recall: 0.7873 - auc: 0.8548 - val_loss: 0.4584 - val_accuracy: 0.7966 - val_precision: 0.7849 - val_recall: 0.9677 - val_auc: 0.8403\n",
            "Epoch 7/15\n",
            "115/115 [==============================] - 44s 385ms/step - loss: 0.1833 - accuracy: 0.8195 - precision: 0.9033 - recall: 0.8244 - auc: 0.8904 - val_loss: 0.4517 - val_accuracy: 0.8113 - val_precision: 0.7919 - val_recall: 0.9821 - val_auc: 0.8543\n",
            "Epoch 8/15\n",
            "107/115 [==========================>...] - ETA: 2s - loss: 0.1708 - accuracy: 0.8330 - precision: 0.9202 - recall: 0.8230 - auc: 0.9074\n",
            "Epoch 00008: saving model to models/cp-0008.ckpt\n",
            "115/115 [==============================] - 50s 431ms/step - loss: 0.1710 - accuracy: 0.8331 - precision: 0.9198 - recall: 0.8237 - auc: 0.9069 - val_loss: 0.4553 - val_accuracy: 0.8162 - val_precision: 0.7931 - val_recall: 0.9892 - val_auc: 0.8620\n",
            "Epoch 9/15\n",
            "115/115 [==============================] - 44s 385ms/step - loss: 0.1658 - accuracy: 0.8408 - precision: 0.9208 - recall: 0.8380 - auc: 0.9101 - val_loss: 0.4685 - val_accuracy: 0.8064 - val_precision: 0.7841 - val_recall: 0.9892 - val_auc: 0.8732\n",
            "Epoch 10/15\n",
            "105/115 [==========================>...] - ETA: 3s - loss: 0.1566 - accuracy: 0.8466 - precision: 0.9267 - recall: 0.8409 - auc: 0.9233\n",
            "Epoch 00010: saving model to models/cp-0010.ckpt\n",
            "115/115 [==============================] - 49s 431ms/step - loss: 0.1565 - accuracy: 0.8466 - precision: 0.9266 - recall: 0.8407 - auc: 0.9234 - val_loss: 0.4736 - val_accuracy: 0.8113 - val_precision: 0.7869 - val_recall: 0.9928 - val_auc: 0.8754\n",
            "Epoch 11/15\n",
            "115/115 [==============================] - 44s 385ms/step - loss: 0.1464 - accuracy: 0.8591 - precision: 0.9407 - recall: 0.8442 - auc: 0.9301 - val_loss: 0.4551 - val_accuracy: 0.8137 - val_precision: 0.7977 - val_recall: 0.9749 - val_auc: 0.8768\n",
            "Epoch 12/15\n",
            "103/115 [=========================>....] - ETA: 4s - loss: 0.1436 - accuracy: 0.8591 - precision: 0.9362 - recall: 0.8451 - auc: 0.9366\n",
            "Epoch 00012: saving model to models/cp-0012.ckpt\n",
            "115/115 [==============================] - 49s 431ms/step - loss: 0.1440 - accuracy: 0.8589 - precision: 0.9356 - recall: 0.8459 - auc: 0.9359 - val_loss: 0.4889 - val_accuracy: 0.7990 - val_precision: 0.7759 - val_recall: 0.9928 - val_auc: 0.8782\n",
            "Epoch 13/15\n",
            "115/115 [==============================] - 44s 385ms/step - loss: 0.1473 - accuracy: 0.8598 - precision: 0.9288 - recall: 0.8580 - auc: 0.9309 - val_loss: 0.4810 - val_accuracy: 0.8088 - val_precision: 0.7847 - val_recall: 0.9928 - val_auc: 0.8779\n",
            "Epoch 14/15\n",
            "101/115 [=========================>....] - ETA: 5s - loss: 0.1293 - accuracy: 0.8825 - precision: 0.9399 - recall: 0.8802 - auc: 0.9486\n",
            "Epoch 00014: saving model to models/cp-0014.ckpt\n",
            "115/115 [==============================] - 49s 430ms/step - loss: 0.1302 - accuracy: 0.8819 - precision: 0.9396 - recall: 0.8800 - auc: 0.9476 - val_loss: 0.4674 - val_accuracy: 0.8137 - val_precision: 0.7925 - val_recall: 0.9857 - val_auc: 0.8796\n",
            "Epoch 15/15\n",
            "115/115 [==============================] - 44s 385ms/step - loss: 0.1342 - accuracy: 0.8665 - precision: 0.9440 - recall: 0.8542 - auc: 0.9424 - val_loss: 0.4966 - val_accuracy: 0.8015 - val_precision: 0.7781 - val_recall: 0.9928 - val_auc: 0.8780\n"
          ],
          "name": "stdout"
        },
        {
          "output_type": "execute_result",
          "data": {
            "text/plain": [
              "<tensorflow.python.keras.callbacks.History at 0x7f19ae3a7358>"
            ]
          },
          "metadata": {
            "tags": []
          },
          "execution_count": 33
        }
      ]
    },
    {
      "cell_type": "markdown",
      "metadata": {
        "id": "0U5J5gGim9sT"
      },
      "source": [
        "## Inference"
      ]
    },
    {
      "cell_type": "code",
      "metadata": {
        "colab": {
          "base_uri": "https://localhost:8080/"
        },
        "id": "ZY6RceaytaKb",
        "outputId": "d8eeaa9c-6306-4ad3-b866-59997b311f22"
      },
      "source": [
        "my_examples = bert_encode(\n",
        "    mrpc = {\n",
        "        'sentence1':[\n",
        "            'I am talking about cities.Mumbai is good city',\n",
        "            'Hello! i am having a great day'],\n",
        "        'sentence2':[\n",
        "            'Australia is known for its cricket',\n",
        "            'Hello! i am having a great day']\n",
        "    },\n",
        "    tokenizer=tokenizer)\n",
        "\n",
        "my_examples\n",
        "result = model(my_examples, training=False,)\n",
        "# layer = tf.keras.layers.Softmax()\n",
        "# layer([-3.0731256,2.4282057]).numpy()\n",
        "# result = layer(result).numpy()\n",
        "print(result)\n",
        "# result = tf.argmax(result).numpy()\n",
        "# result"
      ],
      "execution_count": null,
      "outputs": [
        {
          "output_type": "stream",
          "text": [
            "tf.Tensor(\n",
            "[[0.14015727]\n",
            " [0.9665628 ]], shape=(2, 1), dtype=float32)\n"
          ],
          "name": "stdout"
        }
      ]
    },
    {
      "cell_type": "markdown",
      "metadata": {
        "id": "F69lNJKXnaDO"
      },
      "source": [
        "## Export model to saved model format\n"
      ]
    },
    {
      "cell_type": "code",
      "metadata": {
        "id": "26J7gvEkvOq-",
        "colab": {
          "base_uri": "https://localhost:8080/"
        },
        "outputId": "328a8438-0b12-4460-8009-89126f12aa07"
      },
      "source": [
        "tf.saved_model.save(model, 'similarity_model/')\n",
        "!ls similarity_model/\n"
      ],
      "execution_count": null,
      "outputs": [
        {
          "output_type": "stream",
          "text": [
            "WARNING:absl:Found untraced functions such as self_attention_layer_call_fn, self_attention_layer_call_and_return_conditional_losses, attention_output_layer_call_fn, attention_output_layer_call_and_return_conditional_losses, dropout_1_layer_call_fn while saving (showing 5 of 840). These functions will not be directly callable after loading.\n",
            "WARNING:absl:Found untraced functions such as self_attention_layer_call_fn, self_attention_layer_call_and_return_conditional_losses, attention_output_layer_call_fn, attention_output_layer_call_and_return_conditional_losses, dropout_1_layer_call_fn while saving (showing 5 of 840). These functions will not be directly callable after loading.\n"
          ],
          "name": "stderr"
        },
        {
          "output_type": "stream",
          "text": [
            "INFO:tensorflow:Assets written to: similarity_model/assets\n"
          ],
          "name": "stdout"
        },
        {
          "output_type": "stream",
          "text": [
            "INFO:tensorflow:Assets written to: similarity_model/assets\n"
          ],
          "name": "stderr"
        },
        {
          "output_type": "stream",
          "text": [
            "assets\tsaved_model.pb\tvariables\n"
          ],
          "name": "stdout"
        }
      ]
    },
    {
      "cell_type": "markdown",
      "metadata": {
        "id": "quK7wI4xne_o"
      },
      "source": [
        "## Install pydirve to upload models to drive"
      ]
    },
    {
      "cell_type": "code",
      "metadata": {
        "id": "uqUnwSls19wM",
        "colab": {
          "base_uri": "https://localhost:8080/"
        },
        "outputId": "fd5435ec-17ee-4193-bf96-168a40ae90da"
      },
      "source": [
        "!pip install -U -q PyDrive\n",
        "!pip install httplib2==0.15.0\n",
        "# \n",
        "from pydrive.auth import GoogleAuth\n",
        "from pydrive.drive import GoogleDrive\n",
        "from google.colab import auth\n",
        "from oauth2client.client import GoogleCredentials\n",
        "class Drive():   \n",
        "  def __init__(self) :  \n",
        "    auth.authenticate_user()\n",
        "    gauth = GoogleAuth()\n",
        "    gauth.credentials = GoogleCredentials.get_application_default()\n",
        "    self.drive = GoogleDrive(gauth)\n",
        "\n",
        "\n",
        "  def fileaction(self,files,op='up') : \n",
        "    file_list = self.drive.ListFile({'q': \"'root' in parents and trashed=false\"}).GetList()\n",
        "    for filename in files:\n",
        "      flag = 0 \n",
        "\n",
        "      for file1 in file_list:\n",
        "        if (file1['title']) == filename :\n",
        "            if (op == 'up'and flag==0) : \n",
        "                file1.Delete()\n",
        "                self.upload(filename)\n",
        "                flag = 1\n",
        "\n",
        "            elif (op == 'down') : \n",
        "                self.download(filename,file1) \n",
        "\n",
        "      if(op=='up' and flag==0): \n",
        "            self.upload(filename)\n",
        "            flag = 1\n",
        "\n",
        "  def upload(self,filename) : \n",
        "      Uploadfile = self.drive.CreateFile({'title': filename})\n",
        "      Uploadfile.SetContentFile(filename)\n",
        "      Uploadfile.Upload()\n",
        "      print(\"Saved '{}' to Drive\".format(filename))\n",
        "\n",
        "  def download(self,filename,file1): \n",
        "      downloaded = self.drive.CreateFile({'id':file1['id']})\n",
        "      downloaded.GetContentFile(filename)\n",
        "      print(\"Downloaded '{}' from Drive\".format(filename))\n"
      ],
      "execution_count": null,
      "outputs": [
        {
          "output_type": "stream",
          "text": [
            "Collecting httplib2==0.15.0\n",
            "  Using cached https://files.pythonhosted.org/packages/be/83/5e006e25403871ffbbf587c7aa4650158c947d46e89f2d50dcaf018464de/httplib2-0.15.0-py3-none-any.whl\n",
            "\u001b[31mERROR: google-api-python-client 1.7.12 has requirement httplib2<1dev,>=0.17.0, but you'll have httplib2 0.15.0 which is incompatible.\u001b[0m\n",
            "Installing collected packages: httplib2\n",
            "  Found existing installation: httplib2 0.18.1\n",
            "    Uninstalling httplib2-0.18.1:\n",
            "      Successfully uninstalled httplib2-0.18.1\n",
            "Successfully installed httplib2-0.15.0\n"
          ],
          "name": "stdout"
        }
      ]
    },
    {
      "cell_type": "code",
      "metadata": {
        "id": "5Xs7aLSo2pMN",
        "colab": {
          "base_uri": "https://localhost:8080/"
        },
        "outputId": "5dd6f427-6554-450d-b02e-9c7ae5849b8a"
      },
      "source": [
        "!zip -r similarity_model.zip similarity_model/\n",
        "Drive().fileaction(['similarity_model.zip'],'up')\n"
      ],
      "execution_count": null,
      "outputs": [
        {
          "output_type": "stream",
          "text": [
            "updating: similarity_model/ (stored 0%)\n",
            "updating: similarity_model/variables/ (stored 0%)\n",
            "updating: similarity_model/variables/variables.index (deflated 80%)\n",
            "updating: similarity_model/variables/variables.data-00000-of-00001 (deflated 16%)\n",
            "updating: similarity_model/saved_model.pb (deflated 93%)\n",
            "updating: similarity_model/assets/ (stored 0%)\n",
            "Saved 'similarity_model.zip' to Drive\n"
          ],
          "name": "stdout"
        }
      ]
    },
    {
      "cell_type": "code",
      "metadata": {
        "id": "SXh4odyln5zp"
      },
      "source": [
        ""
      ],
      "execution_count": null,
      "outputs": []
    }
  ]
}